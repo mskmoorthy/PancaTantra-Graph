{
 "cells": [
  {
   "cell_type": "markdown",
   "id": "0179f8c7",
   "metadata": {
    "collapsed": false
   },
   "source": [
    "Playground for exercising our library of code."
   ]
  },
  {
   "cell_type": "code",
   "execution_count": 1,
   "id": "105dc073",
   "metadata": {
    "collapsed": false
   },
   "outputs": [],
   "source": [
    "\n",
    "from panch import classes"
   ]
  },
  {
   "cell_type": "code",
   "execution_count": null,
   "id": "020f9fba",
   "metadata": {
    "collapsed": false
   },
   "outputs": [],
   "source": []
  }
 ],
 "metadata": {
  "kernelspec": {
   "argv": [
    "/usr/bin/python3",
    "-m",
    "ipykernel_launcher",
    "-f",
    "{connection_file}"
   ],
   "display_name": "Python 3 (ipykernel)",
   "env": null,
   "interrupt_mode": "signal",
   "language": "python",
   "metadata": {
    "debugger": false
   },
   "name": "python3"
  },
  "name": "play.ipynb"
 },
 "nbformat": 4,
 "nbformat_minor": 5
}
