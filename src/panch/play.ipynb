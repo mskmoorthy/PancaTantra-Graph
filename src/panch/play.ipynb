{
 "cells": [
  {
   "cell_type": "code",
   "execution_count": 5,
   "id": "f2dfdae9",
   "metadata": {
    "collapsed": false
   },
   "outputs": [],
   "source": [
    "Playground for exercising our library of code.\n",
    "\n",
    "import classes\n",
    "\n",
    "s=classes.Story()\n",
    "s.title=\"hello\""
   ]
  },
  {
   "cell_type": "code",
   "execution_count": null,
   "id": "85d3050b",
   "metadata": {
    "collapsed": false
   },
   "outputs": [],
   "source": []
  }
 ],
 "metadata": {
  "kernelspec": {
   "argv": [
    "/usr/bin/python3",
    "-m",
    "ipykernel_launcher",
    "-f",
    "{connection_file}"
   ],
   "display_name": "Python 3 (ipykernel)",
   "env": null,
   "interrupt_mode": "signal",
   "language": "python",
   "metadata": {
    "debugger": false
   },
   "name": "python3"
  },
  "name": "play.ipynb"
 },
 "nbformat": 4,
 "nbformat_minor": 5
}
