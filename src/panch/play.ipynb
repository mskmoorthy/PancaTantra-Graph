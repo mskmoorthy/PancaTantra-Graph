{
 "cells": [
  {
   "cell_type": "markdown",
   "id": "ea2461ae",
   "metadata": {
    "collapsed": false
   },
   "source": [
    "Ipython Playground "
   ]
  },
  {
   "cell_type": "code",
   "execution_count": 1,
   "id": "0a54369f",
   "metadata": {
    "collapsed": false
   },
   "outputs": [
    {
     "name": "stdout",
     "output_type": "stream",
     "text": [
      "title\n",
      "moral\n",
      "narrator\n",
      "stories\n",
      "Lion, Bull and Two Jackals\n",
      "panchatantra\n",
      "friendship and villany \n",
      "[]\n"
     ]
    }
   ],
   "source": [
    "from classes import Story, Character, Utterance\n",
    "s=Story(\n",
    "    title=\"Lion, Bull and Two Jackals\",\n",
    "    moral = 'friendship and villany ',\n",
    "    narrator = 'panchatantra',\n",
    "    stories=[])\n",
    "print(s.title)\n",
    "print (s.narrator)\n",
    "print (s.moral)\n",
    "print(s.stories)"
   ]
  },
  {
   "cell_type": "code",
   "execution_count": null,
   "id": "dcf297d4",
   "metadata": {
    "collapsed": false
   },
   "outputs": [],
   "source": []
  }
 ],
 "metadata": {
  "kernelspec": {
   "argv": [
    "/usr/bin/python3",
    "-m",
    "ipykernel_launcher",
    "-f",
    "{connection_file}"
   ],
   "display_name": "Python 3 (ipykernel)",
   "env": null,
   "interrupt_mode": "signal",
   "language": "python",
   "metadata": {
    "debugger": false
   },
   "name": "python3"
  },
  "name": "play.ipynb"
 },
 "nbformat": 4,
 "nbformat_minor": 5
}
