{
 "cells": [
  {
   "cell_type": "markdown",
   "id": "bd411d81",
   "metadata": {
    "collapsed": false
   },
   "source": [
    "Ipython Playground "
   ]
  },
  {
   "cell_type": "code",
   "execution_count": 4,
   "id": "c612178b",
   "metadata": {
    "collapsed": false
   },
   "outputs": [
    {
     "name": "stdout",
     "output_type": "stream",
     "text": [
      "Lion, Bull and Two Jackals\n"
     ]
    }
   ],
   "source": [
    "import classes\n",
    "s=classes.Story(title=\"Lion, Bull and Two Jackals\")\n",
    "print(s.title)"
   ]
  },
  {
   "cell_type": "code",
   "execution_count": null,
   "id": "2a9fe46a",
   "metadata": {
    "collapsed": false
   },
   "outputs": [],
   "source": []
  }
 ],
 "metadata": {
  "kernelspec": {
   "argv": [
    "/usr/bin/python3",
    "-m",
    "ipykernel_launcher",
    "-f",
    "{connection_file}"
   ],
   "display_name": "Python 3 (ipykernel)",
   "env": null,
   "interrupt_mode": "signal",
   "language": "python",
   "metadata": {
    "debugger": false
   },
   "name": "python3"
  },
  "name": "play.ipynb"
 },
 "nbformat": 4,
 "nbformat_minor": 5
}
