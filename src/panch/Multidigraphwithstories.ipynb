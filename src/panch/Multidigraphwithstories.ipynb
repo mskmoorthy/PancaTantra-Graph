{
 "cells": [
  {
   "cell_type": "code",
   "execution_count": 1,
   "id": "dfbedc2d",
   "metadata": {},
   "outputs": [],
   "source": [
    "import networkx as nx\n",
    "G= nx.MultiDiGraph()"
   ]
  },
  {
   "cell_type": "code",
   "execution_count": 3,
   "id": "daa2658d",
   "metadata": {},
   "outputs": [],
   "source": [
    "import entities\n",
    "b = entities.book_1\n",
    "c = entities.cast_1"
   ]
  },
  {
   "cell_type": "code",
   "execution_count": 4,
   "id": "9c0b2f72",
   "metadata": {},
   "outputs": [],
   "source": [
    "for i in b:\n",
    "    keys=G.add_edge(b[i].told_by,b[i].told_to,data=b[i].title)"
   ]
  },
  {
   "cell_type": "code",
   "execution_count": 5,
   "id": "74d568a6",
   "metadata": {},
   "outputs": [
    {
     "data": {
      "text/plain": [
       "[('cautious', 'crafty', {'data': 'wedge-pulling monkey'}),\n",
       " ('cautious', 'crafty', {'data': 'monk who left his body behind'}),\n",
       " ('cautious', 'crafty', {'data': 'unteachable monkey'}),\n",
       " ('cautious', 'crafty', {'data': 'honest and sly'}),\n",
       " ('cautious', 'crafty', {'data': 'mice that ate iron'}),\n",
       " ('cautious', 'crafty', {'data': 'twin parrots, good and bad'}),\n",
       " ('cautious', 'crafty', {'data': 'sensible foe'}),\n",
       " ('cautious', 'crafty', {'data': 'foolish friend'}),\n",
       " ('crafty', 'rusty', {'data': 'jackal and the war drum'}),\n",
       " ('crafty', 'rusty', {'data': 'grateful animals and ungrateful man'}),\n",
       " ('crafty', 'rusty', {'data': 'leap and creep'}),\n",
       " ('crafty', 'rusty', {'data': 'blue jackal'}),\n",
       " ('crafty', 'lively', {'data': 'merchant named able'}),\n",
       " ('crafty', 'lively', {'data': 'sandpiper and the sea'}),\n",
       " ('crafty', 'cautious', {'data': 'pious and cheat'}),\n",
       " ('crafty', 'cautious', {'data': 'jackal at the ram fight'}),\n",
       " ('crafty', 'cautious', {'data': 'weaver’s wife'}),\n",
       " ('crafty', 'cautious', {'data': 'crow-hen and the black snake'}),\n",
       " ('crafty', 'cautious', {'data': 'arrogant and rabbit'}),\n",
       " ('crafty', 'cautious', {'data': 'weaver who loved a princess'}),\n",
       " ('crafty', 'cautious', {'data': 'jackal who tricked lion'}),\n",
       " ('lively', 'crafty', {'data': 'swan and owl'}),\n",
       " ('lively', 'crafty', {'data': 'gullible camel'}),\n",
       " ('lively', 'crafty', {'data': 'lion and carpenter'}),\n",
       " ('a jackal', 'a crow', {'data': 'heron who liked crabmeat'}),\n",
       " ('steady', 'brag', {'data': 'turtle and two ganders'}),\n",
       " ('steady', 'brag', {'data': 'forethought, ready wit and fatalist'}),\n",
       " ('steady', 'brag', {'data': 'sparrow versus elephant'}),\n",
       " ('wise old bird', 'group of birds', {'data': 'clever old gander'}),\n",
       " ('old bird', 'garuda', {'data': 'lion and ram'}),\n",
       " ('sage', 'gold-throne', {'data': 'girl who married a snake'}),\n",
       " ('the girl', 'group of people', {'data': 'parrot named brilliant'}),\n",
       " ('sly’s father', 'sly', {'data': 'the cure was worse than the disease'}),\n",
       " ('sharma', 'three princes', {'data': 'lion, bull, and two jackals'})]"
      ]
     },
     "execution_count": 5,
     "metadata": {},
     "output_type": "execute_result"
    }
   ],
   "source": [
    "list(G.edges(data=True))"
   ]
  },
  {
   "cell_type": "code",
   "execution_count": 6,
   "id": "87a78a6e",
   "metadata": {},
   "outputs": [
    {
     "data": {
      "text/plain": [
       "AdjacencyView({'crafty': {0: {'data': 'wedge-pulling monkey'}, 1: {'data': 'monk who left his body behind'}, 2: {'data': 'unteachable monkey'}, 3: {'data': 'honest and sly'}, 4: {'data': 'mice that ate iron'}, 5: {'data': 'twin parrots, good and bad'}, 6: {'data': 'sensible foe'}, 7: {'data': 'foolish friend'}}})"
      ]
     },
     "execution_count": 6,
     "metadata": {},
     "output_type": "execute_result"
    }
   ],
   "source": [
    "G['cautious']"
   ]
  },
  {
   "cell_type": "code",
   "execution_count": 7,
   "id": "dc49774b",
   "metadata": {},
   "outputs": [
    {
     "data": {
      "text/plain": [
       "AdjacencyView({'rusty': {0: {'data': 'jackal and the war drum'}, 1: {'data': 'grateful animals and ungrateful man'}, 2: {'data': 'leap and creep'}, 3: {'data': 'blue jackal'}}, 'lively': {0: {'data': 'merchant named able'}, 1: {'data': 'sandpiper and the sea'}}, 'cautious': {0: {'data': 'pious and cheat'}, 1: {'data': 'jackal at the ram fight'}, 2: {'data': 'weaver’s wife'}, 3: {'data': 'crow-hen and the black snake'}, 4: {'data': 'arrogant and rabbit'}, 5: {'data': 'weaver who loved a princess'}, 6: {'data': 'jackal who tricked lion'}}})"
      ]
     },
     "execution_count": 7,
     "metadata": {},
     "output_type": "execute_result"
    }
   ],
   "source": [
    "G['crafty']"
   ]
  },
  {
   "cell_type": "code",
   "execution_count": 8,
   "id": "a5793d86",
   "metadata": {},
   "outputs": [
    {
     "data": {
      "text/plain": [
       "AtlasView({0: {'data': 'pious and cheat'}, 1: {'data': 'jackal at the ram fight'}, 2: {'data': 'weaver’s wife'}, 3: {'data': 'crow-hen and the black snake'}, 4: {'data': 'arrogant and rabbit'}, 5: {'data': 'weaver who loved a princess'}, 6: {'data': 'jackal who tricked lion'}})"
      ]
     },
     "execution_count": 8,
     "metadata": {},
     "output_type": "execute_result"
    }
   ],
   "source": [
    "G['crafty']['cautious']"
   ]
  },
  {
   "cell_type": "code",
   "execution_count": 9,
   "id": "82d56f6d",
   "metadata": {},
   "outputs": [
    {
     "data": {
      "text/plain": [
       "AtlasView({0: {'data': 'wedge-pulling monkey'}, 1: {'data': 'monk who left his body behind'}, 2: {'data': 'unteachable monkey'}, 3: {'data': 'honest and sly'}, 4: {'data': 'mice that ate iron'}, 5: {'data': 'twin parrots, good and bad'}, 6: {'data': 'sensible foe'}, 7: {'data': 'foolish friend'}})"
      ]
     },
     "execution_count": 9,
     "metadata": {},
     "output_type": "execute_result"
    }
   ],
   "source": [
    "G['cautious']['crafty']"
   ]
  },
  {
   "cell_type": "code",
   "execution_count": null,
   "id": "02179278",
   "metadata": {},
   "outputs": [],
   "source": []
  }
 ],
 "metadata": {
  "kernelspec": {
   "display_name": "Python 3 (ipykernel)",
   "language": "python",
   "name": "python3"
  },
  "language_info": {
   "codemirror_mode": {
    "name": "ipython",
    "version": 3
   },
   "file_extension": ".py",
   "mimetype": "text/x-python",
   "name": "python",
   "nbconvert_exporter": "python",
   "pygments_lexer": "ipython3",
   "version": "3.9.7"
  }
 },
 "nbformat": 4,
 "nbformat_minor": 5
}
