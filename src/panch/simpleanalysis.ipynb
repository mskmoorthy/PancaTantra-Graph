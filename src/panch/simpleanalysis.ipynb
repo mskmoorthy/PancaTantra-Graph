{
 "cells": [
  {
   "cell_type": "markdown",
   "id": "799d945a",
   "metadata": {},
   "source": [
    "# Treating the Stories As a Multigraph\n"
   ]
  },
  {
   "cell_type": "code",
   "execution_count": 1,
   "id": "aabebd8b",
   "metadata": {},
   "outputs": [],
   "source": [
    "import networkx as nx"
   ]
  },
  {
   "cell_type": "code",
   "execution_count": 2,
   "id": "4d2dd1ff",
   "metadata": {},
   "outputs": [],
   "source": [
    "import entities\n",
    "b = entities.book_1\n",
    "c = entities.cast_1"
   ]
  },
  {
   "cell_type": "code",
   "execution_count": 3,
   "id": "ac7978a7",
   "metadata": {},
   "outputs": [],
   "source": [
    "G= nx.MultiDiGraph()"
   ]
  },
  {
   "cell_type": "code",
   "execution_count": 4,
   "id": "feffb0e4",
   "metadata": {},
   "outputs": [],
   "source": [
    "for i in b:\n",
    "    G.add_edge(b[i].told_by,b[i].told_to)"
   ]
  },
  {
   "cell_type": "code",
   "execution_count": 5,
   "id": "08c0430f",
   "metadata": {},
   "outputs": [
    {
     "name": "stdout",
     "output_type": "stream",
     "text": [
      "cautious : Number of Stories told to 7 , Number of Storied told by 8\n",
      "crafty : Number of Stories told to 11 , Number of Storied told by 13\n",
      "rusty : Number of Stories told to 4 , Number of Storied told by 0\n",
      "lively : Number of Stories told to 2 , Number of Storied told by 3\n",
      "a jackal : Number of Stories told to 0 , Number of Storied told by 1\n",
      "a crow : Number of Stories told to 1 , Number of Storied told by 0\n",
      "steady : Number of Stories told to 0 , Number of Storied told by 3\n",
      "brag : Number of Stories told to 3 , Number of Storied told by 0\n",
      "wise old bird : Number of Stories told to 0 , Number of Storied told by 1\n",
      "group of birds : Number of Stories told to 1 , Number of Storied told by 0\n",
      "old bird : Number of Stories told to 0 , Number of Storied told by 1\n",
      "garuda : Number of Stories told to 1 , Number of Storied told by 0\n",
      "sage : Number of Stories told to 0 , Number of Storied told by 1\n",
      "gold-throne : Number of Stories told to 1 , Number of Storied told by 0\n",
      "the girl : Number of Stories told to 0 , Number of Storied told by 1\n",
      "group of people : Number of Stories told to 1 , Number of Storied told by 0\n",
      "sly’s father : Number of Stories told to 0 , Number of Storied told by 1\n",
      "sly : Number of Stories told to 1 , Number of Storied told by 0\n",
      "sharma : Number of Stories told to 0 , Number of Storied told by 1\n",
      "three princes : Number of Stories told to 1 , Number of Storied told by 0\n"
     ]
    }
   ],
   "source": [
    "for i in G.nodes:\n",
    "    print(i, \": Number of Stories told to\", G.in_degree(i),\", Number of Storied told by\",G.out_degree(i))"
   ]
  },
  {
   "cell_type": "code",
   "execution_count": 6,
   "id": "a8ef32a9",
   "metadata": {},
   "outputs": [
    {
     "name": "stdout",
     "output_type": "stream",
     "text": [
      "8\n"
     ]
    }
   ],
   "source": [
    "print(G.number_of_edges('cautious','crafty'))"
   ]
  },
  {
   "cell_type": "code",
   "execution_count": 7,
   "id": "9e9a78c7",
   "metadata": {},
   "outputs": [
    {
     "name": "stdout",
     "output_type": "stream",
     "text": [
      "7\n"
     ]
    }
   ],
   "source": [
    "print(G.number_of_edges('crafty','cautious'))"
   ]
  },
  {
   "cell_type": "markdown",
   "id": "b54fbdfb",
   "metadata": {},
   "source": [
    "# Simple Connected Component Analysis"
   ]
  },
  {
   "cell_type": "code",
   "execution_count": 8,
   "id": "cf36db09",
   "metadata": {},
   "outputs": [],
   "source": [
    "Gu=nx.Graph()"
   ]
  },
  {
   "cell_type": "code",
   "execution_count": 9,
   "id": "e89d6342",
   "metadata": {},
   "outputs": [],
   "source": [
    "for i in b:\n",
    "    Gu.add_edge(b[i].told_by, b[i].told_to)\n",
    "    "
   ]
  },
  {
   "cell_type": "code",
   "execution_count": 10,
   "id": "265bbc75",
   "metadata": {},
   "outputs": [],
   "source": [
    "S = [Gu.subgraph(c).copy() for c in nx.connected_components(Gu)]"
   ]
  },
  {
   "cell_type": "code",
   "execution_count": 11,
   "id": "79fd2623",
   "metadata": {},
   "outputs": [
    {
     "name": "stdout",
     "output_type": "stream",
     "text": [
      "['lively', 'cautious', 'crafty', 'rusty']\n",
      "['a jackal', 'a crow']\n",
      "['steady', 'brag']\n",
      "['group of birds', 'wise old bird']\n",
      "['garuda', 'old bird']\n",
      "['sage', 'gold-throne']\n",
      "['group of people', 'the girl']\n",
      "['sly', 'sly’s father']\n",
      "['three princes', 'sharma']\n"
     ]
    }
   ],
   "source": [
    "for i in range(len(S)):\n",
    "    print(S[i].nodes)"
   ]
  },
  {
   "cell_type": "code",
   "execution_count": null,
   "id": "7509da41",
   "metadata": {},
   "outputs": [],
   "source": []
  }
 ],
 "metadata": {
  "kernelspec": {
   "display_name": "Python 3 (ipykernel)",
   "language": "python",
   "name": "python3"
  },
  "language_info": {
   "codemirror_mode": {
    "name": "ipython",
    "version": 3
   },
   "file_extension": ".py",
   "mimetype": "text/x-python",
   "name": "python",
   "nbconvert_exporter": "python",
   "pygments_lexer": "ipython3",
   "version": "3.9.7"
  }
 },
 "nbformat": 4,
 "nbformat_minor": 5
}
